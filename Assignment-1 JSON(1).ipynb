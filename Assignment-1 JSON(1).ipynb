{
 "cells": [
  {
   "cell_type": "markdown",
   "metadata": {},
   "source": [
    "# Create an assignment for File handling of JSON files in Python\n",
    "1. Create a JSON file (employee.json) containing employee information of minimum 5 employees. Each employee information consists of Name, DOB, Height, City, State. Write a python program that reads this information from the JSON file and saves the information into a list of objects of Employee class. Finally print the list of the Employee objects.\n"
   ]
  },
  {
   "cell_type": "markdown",
   "metadata": {},
   "source": [
    "# Creation of json file"
   ]
  },
  {
   "cell_type": "code",
   "execution_count": 2,
   "metadata": {},
   "outputs": [],
   "source": [
    "import json\n",
    "employee={\"employee_details\":[\n",
    "          \n",
    "            {\"Name\":\"Rohit\",\n",
    "            \"DOB\": \"3-5-1995\",\n",
    "            \"Height\": \"5 feet\" ,\n",
    "            \"City\": \"Chennai\",\n",
    "            \"State\":\"Tamilnadu\"},\n",
    "           \n",
    "            \n",
    "           {\"Name\":\"Seetha\",\n",
    "            \"DOB\": \"8-06-1995\",\n",
    "            \"Height\": \"5 feet 6 inches\" ,\n",
    "            \"City\": \"Bangalore\",\n",
    "            \"State\":\"Karnataka\"},\n",
    "               \n",
    "          \n",
    "           {\"Name\":\"Brundha\",\n",
    "            \"DOB\": \"30-07-2000\",\n",
    "            \"Height\": \"5 feet 2 inches\" ,\n",
    "            \"City\": \"Mumbai\",\n",
    "            \"State\":\"Maharashtra\"},\n",
    "               \n",
    "           \n",
    "           {\"Name\":\"Radha\",\n",
    "            \"DOB\": \"23-3-1998\",\n",
    "            \"Height\": \"5 feet \" ,\n",
    "            \"City\": \"Kolkata\",\n",
    "            \"State\":\"West Bengal\"},\n",
    "           \n",
    "            \n",
    "           {\"Name\":\"Krishna\",\n",
    "            \"DOB\": \"7-7-1997\",\n",
    "            \"Height\": \"5 feet 6 inches\" ,\n",
    "            \"City\": \"Bhopal\",\n",
    "            \"State\":\"Madhya Pradesh\"}\n",
    "           ]\n",
    "          }\n",
    "with open(\"employee.json\",\"w\") as f:\n",
    "    json.dump(employee,f,indent=7)\n"
   ]
  },
  {
   "cell_type": "markdown",
   "metadata": {},
   "source": [
    "# Read the information of json file"
   ]
  },
  {
   "cell_type": "code",
   "execution_count": 5,
   "metadata": {},
   "outputs": [
    {
     "name": "stdout",
     "output_type": "stream",
     "text": [
      "{'employee_details': [{'Name': 'Rohit', 'DOB': '3-5-1995', 'Height': '5 feet', 'City': 'Chennai', 'State': 'Tamilnadu'}, {'Name': 'Seetha', 'DOB': '8-06-1995', 'Height': '5 feet 6 inches', 'City': 'Bangalore', 'State': 'Karnataka'}, {'Name': 'Brundha', 'DOB': '30-07-2000', 'Height': '5 feet 2 inches', 'City': 'Mumbai', 'State': 'Maharashtra'}, {'Name': 'Radha', 'DOB': '23-3-1998', 'Height': '5 feet ', 'City': 'Kolkata', 'State': 'West Bengal'}, {'Name': 'Krishna', 'DOB': '7-7-1997', 'Height': '5 feet 6 inches', 'City': 'Bhopal', 'State': 'Madhya Pradesh'}]}\n"
     ]
    }
   ],
   "source": [
    "import json \n",
    "\n",
    "with open(\"employee.json\",\"r\") as f:\n",
    "    read=json.load(f)\n",
    "    \n",
    "print(read)"
   ]
  },
  {
   "cell_type": "markdown",
   "metadata": {},
   "source": [
    "# List of objects of Employee Class"
   ]
  },
  {
   "cell_type": "code",
   "execution_count": 4,
   "metadata": {},
   "outputs": [
    {
     "name": "stdout",
     "output_type": "stream",
     "text": [
      " Name: Rohit  Dob: 3-05-1995  Height: 5 feet  City: Chennai  State: Tamilnadu\n",
      " Name: Seetha  Dob: 8-06-1995  Height: 5 feet 6 inches  City: Bangalore  State: Karnataka\n",
      " Name: Brundha  Dob: 30-07-2000  Height: 5 feet 2 inches  City: Mumbai  State: Maharashtra\n",
      " Name: Radha  Dob: 23-03-1998  Height: 5 feet  City: Kolkata  State: West Bengal\n",
      " Name: Krishna  Dob: 7-07-1997  Height: 5 feet 6 inches  City: Bhopal  State: Madhya Pradesh\n"
     ]
    }
   ],
   "source": [
    "class Employee:\n",
    "    def __init__(self,name,dob,height,city,state):\n",
    "        \n",
    "        self.name = name\n",
    "        self.dob = dob\n",
    "        self.height = height\n",
    "        self.city = city\n",
    "        self.state = state\n",
    "        \n",
    "list=[]\n",
    "\n",
    "list.append(Employee(\"Rohit\",\"3-05-1995\",\"5 feet\",\"Chennai\",\"Tamilnadu\"))\n",
    "list.append(Employee(\"Seetha\",\"8-06-1995\",\"5 feet 6 inches\",\"Bangalore\",\"Karnataka\"))\n",
    "list.append(Employee(\"Brundha\",\"30-07-2000\",\"5 feet 2 inches\",\"Mumbai\",\"Maharashtra\"))\n",
    "list.append(Employee(\"Radha\",\"23-03-1998\",\"5 feet\",\"Kolkata\",\"West Bengal\"))\n",
    "list.append(Employee(\"Krishna\",\"7-07-1997\",\"5 feet 6 inches\",\"Bhopal\",\"Madhya Pradesh\"))\n",
    "\n",
    "for i in list:\n",
    "   print(\" Name:\",i.name+\" \"+\" Dob:\",i.dob+\" \"+\" Height:\",i.height+\" \"+\" City:\",i.city+\" \"+\" State:\",i.state,end=\"\\n\")\n",
    "\n",
    "\n"
   ]
  }
 ],
 "metadata": {
  "kernelspec": {
   "display_name": "Python 3",
   "language": "python",
   "name": "python3"
  },
  "language_info": {
   "codemirror_mode": {
    "name": "ipython",
    "version": 3
   },
   "file_extension": ".py",
   "mimetype": "text/x-python",
   "name": "python",
   "nbconvert_exporter": "python",
   "pygments_lexer": "ipython3",
   "version": "3.7.6"
  }
 },
 "nbformat": 4,
 "nbformat_minor": 4
}
