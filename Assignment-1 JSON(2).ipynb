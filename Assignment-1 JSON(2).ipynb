{
 "cells": [
  {
   "cell_type": "markdown",
   "metadata": {},
   "source": [
    "# 2. Create a dictionary of any 7 Indian states and their capitals. Write this into a JSON file."
   ]
  },
  {
   "cell_type": "code",
   "execution_count": 1,
   "metadata": {},
   "outputs": [
    {
     "name": "stdout",
     "output_type": "stream",
     "text": [
      "json file generated\n"
     ]
    }
   ],
   "source": [
    "import json\n",
    "\n",
    "india = {\"capitals_of_india\" : \n",
    "                         {  \"Tamilnadu\": \"Chennai\",\n",
    "                             \"Kerala\": \"Thiruvananthapuram\",\n",
    "                             \"Andhra Pradesh\": \"Amaravati\",\n",
    "                             \"Karnataka\": \"Bangalore\",\n",
    "                             \"Goa\":\"Panaji\",\n",
    "                             \"Bihar\": \"Patna\",\n",
    "                             \"Rajasthan\": \"Jaipur\"\n",
    "                             }\n",
    "        }\n",
    "\n",
    "with open(\"india.json\",\"w\") as f:\n",
    "    json.dump(india,f,indent=7)\n",
    "    print(\"json file generated\")"
   ]
  },
  {
   "cell_type": "code",
   "execution_count": null,
   "metadata": {},
   "outputs": [],
   "source": []
  }
 ],
 "metadata": {
  "kernelspec": {
   "display_name": "Python 3",
   "language": "python",
   "name": "python3"
  },
  "language_info": {
   "codemirror_mode": {
    "name": "ipython",
    "version": 3
   },
   "file_extension": ".py",
   "mimetype": "text/x-python",
   "name": "python",
   "nbconvert_exporter": "python",
   "pygments_lexer": "ipython3",
   "version": "3.7.6"
  }
 },
 "nbformat": 4,
 "nbformat_minor": 4
}
