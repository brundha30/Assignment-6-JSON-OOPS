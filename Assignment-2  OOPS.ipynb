{
 "cells": [
  {
   "cell_type": "markdown",
   "metadata": {},
   "source": [
    "# 👉 1. Create a class named ‘Dog’. It should have a constructor which accepts its name, age and coat color. You must perform the following operations:\n",
    "🔴 a. It should have a function ‘description()’ which prints the name and age of the dog. 🔴 b. It should have a function ‘get_info()’ which prints the coat color of the dog. 🔴 c. Create child classes ‘JackRussellTerrier’ and ‘Bulldog’ which is inherited from the class ‘Dog’. It should have at least two methods of its own. 🔴 d. Create objects and implement the above functionalities."
   ]
  },
  {
   "cell_type": "code",
   "execution_count": 1,
   "metadata": {},
   "outputs": [
    {
     "name": "stdout",
     "output_type": "stream",
     "text": [
      "Name of the dog: Rhoni\n",
      "Age of the dog: 3\n",
      "Coat color of the dog: Pale Yellow\n",
      "\n",
      "Height of the dog is 14 inches\n",
      "Weight of the dog is 15lbs\n",
      "They are also known as Parson Russell Terrier\n",
      "They are charming and affectionate\n",
      "\n",
      "Name of the dog: Bumbly\n",
      "Age of the dog: 5\n",
      "Coat color of the dog: Light Brown\n",
      "\n",
      "Breedsize of dog is medium\n",
      "Height of the dog is 15 inches\n",
      "They are Nicknamed as sourmug\n",
      "They are joyful, well-bred, faithful\n"
     ]
    }
   ],
   "source": [
    "class Dog:\n",
    "    \n",
    "    def __init__(self,name,age,coat_color):\n",
    "        \n",
    "        self.name = name\n",
    "        self.age = age\n",
    "        self.coat_color = coat_color\n",
    "        \n",
    "    def description(self):\n",
    "        \n",
    "        print(\"Name of the dog:\",self.name)\n",
    "        print(\"Age of the dog:\",self.age)\n",
    "    \n",
    "    def get_info(self):\n",
    "        \n",
    "        print(\"Coat color of the dog:\",self.coat_color)\n",
    "        print(_ * 10)\n",
    "\n",
    "class JackRussellTerrier(Dog):\n",
    "    \n",
    "    def size(self):\n",
    "        \n",
    "        print(\"Height of the dog is 14 inches\")\n",
    "        print(\"Weight of the dog is 15lbs\")\n",
    "    \n",
    "    def jack_info(self):\n",
    "        \n",
    "        print(\"They are also known as Parson Russell Terrier\")\n",
    "        print(\"They are charming and affectionate\")\n",
    "        print(_ * 10)\n",
    "        \n",
    "class Bulldog(Dog):\n",
    "    \n",
    "    def coat(self):\n",
    "        \n",
    "        print(\"Breedsize of dog is medium\")\n",
    "        print(\"Height of the dog is 15 inches\")\n",
    "        \n",
    "    def bull_info(self):\n",
    "        \n",
    "        print(\"They are Nicknamed as sourmug\")\n",
    "        print(\"They are joyful, well-bred, faithful\")\n",
    "        \n",
    "        \n",
    "        \n",
    "o=JackRussellTerrier(\"Rhoni\",3,\"Pale Yellow\")\n",
    "o1=Bulldog(\"Bumbly\",5,\"Light Brown\")\n",
    "o.description()\n",
    "o.get_info()\n",
    "o.size()\n",
    "o.jack_info()\n",
    "o1.description()\n",
    "o1.get_info()\n",
    "o1.coat()\n",
    "o1.bull_info()     "
   ]
  },
  {
   "cell_type": "code",
   "execution_count": null,
   "metadata": {},
   "outputs": [],
   "source": []
  }
 ],
 "metadata": {
  "kernelspec": {
   "display_name": "Python 3",
   "language": "python",
   "name": "python3"
  },
  "language_info": {
   "codemirror_mode": {
    "name": "ipython",
    "version": 3
   },
   "file_extension": ".py",
   "mimetype": "text/x-python",
   "name": "python",
   "nbconvert_exporter": "python",
   "pygments_lexer": "ipython3",
   "version": "3.7.6"
  }
 },
 "nbformat": 4,
 "nbformat_minor": 4
}
